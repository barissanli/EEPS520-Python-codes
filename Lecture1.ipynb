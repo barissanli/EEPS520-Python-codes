{
  "nbformat": 4,
  "nbformat_minor": 0,
  "metadata": {
    "colab": {
      "name": "Lecture1.ipynb",
      "provenance": [],
      "collapsed_sections": []
    },
    "kernelspec": {
      "name": "python3",
      "display_name": "Python 3"
    }
  },
  "cells": [
    {
      "cell_type": "markdown",
      "metadata": {
        "id": "t7tNwSICyPRK",
        "colab_type": "text"
      },
      "source": [
        "Lecture 1  - EEPS520\n",
        "\n",
        "In this lecture, I will give you a code and show you how to change the code for analysis\n",
        "Before we start, \n",
        "\n",
        "The code consists of 3 parts\n",
        "\n",
        "\n",
        "1.   Libraries to use ( \"%pylab inline, import pandas as pd\")\n",
        "2.   Data acquisation and formatting\n",
        "3.   Graphics   (Commands :  plot, hist )\n",
        "\n"
      ]
    },
    {
      "cell_type": "code",
      "metadata": {
        "id": "BvMOASiFoTu6",
        "colab_type": "code",
        "colab": {
          "base_uri": "https://localhost:8080/",
          "height": 34
        },
        "outputId": "0207a845-be43-4d33-c494-342e011ef912"
      },
      "source": [
        "%pylab inline\n",
        "import pandas as pd"
      ],
      "execution_count": 1,
      "outputs": [
        {
          "output_type": "stream",
          "text": [
            "Populating the interactive namespace from numpy and matplotlib\n"
          ],
          "name": "stdout"
        }
      ]
    },
    {
      "cell_type": "code",
      "metadata": {
        "id": "362oZTeBoape",
        "colab_type": "code",
        "colab": {}
      },
      "source": [
        "prices=pd.read_excel(\"https://www.eia.gov/dnav/pet/hist_xls/RBRTEd.xls\",sheet_name=\"Data 1\", skiprows=2)"
      ],
      "execution_count": 2,
      "outputs": []
    },
    {
      "cell_type": "code",
      "metadata": {
        "id": "91EihfuzpepC",
        "colab_type": "code",
        "colab": {}
      },
      "source": [
        "prices[\"Brent\"]=prices['Europe Brent Spot Price FOB (Dollars per Barrel)']\n",
        "prices[\"Month\"]=prices[\"Date\"].dt.month\n",
        "prices[\"Year\"]=prices[\"Date\"].dt.year\n",
        "prices[\"Percent_Change\"]=prices['Europe Brent Spot Price FOB (Dollars per Barrel)'].pct_change()\n",
        "prices[\"Price_Change\"]=prices['Europe Brent Spot Price FOB (Dollars per Barrel)'].diff()"
      ],
      "execution_count": 3,
      "outputs": []
    },
    {
      "cell_type": "code",
      "metadata": {
        "id": "qt24xbMRofRk",
        "colab_type": "code",
        "colab": {}
      },
      "source": [
        "dataselected = prices[(prices.Year==2020) & (prices.Month==3)]   # Year 2020 all data or March 2020\n",
        "dataselected = prices[(prices.Year==2018) & (prices.Month>9)]   # Year 2018 all data for October, November, December 2018\n",
        "dataselected = prices[(prices.Year<2019) & (prices.Month=5)]   # Select for all years before 2019 for May\n",
        "dataselected = prices[(prices.Month>9)]   # For all years October, November, December\n",
        "dataselected = prices[((prices.Year==2001) | (prices.Year==2008)) & ((prices.Month==1) | (prices.Month==12))]   # Year 2018 all data for October, November, December 2018"
      ],
      "execution_count": 4,
      "outputs": []
    },
    {
      "cell_type": "code",
      "metadata": {
        "id": "0k9yqCcpolRs",
        "colab_type": "code",
        "colab": {
          "base_uri": "https://localhost:8080/",
          "height": 352
        },
        "outputId": "7b7341ab-d4fa-4d7a-a744-fcd842b49e68"
      },
      "source": [
        "hist(dataselected.Brent)           # histogram for prices\n",
        "hist(dataselected.Price_Change)    # histogram for price change\n",
        "hist(dataselected.Percent_Change)  # histogram for percent change"
      ],
      "execution_count": 21,
      "outputs": [
        {
          "output_type": "execute_result",
          "data": {
            "text/plain": [
              "(array([ 1.,  0.,  0.,  2., 14., 32., 20., 10.,  4.,  1.]),\n",
              " array([-0.15491672, -0.12874889, -0.10258107, -0.07641324, -0.05024541,\n",
              "        -0.02407758,  0.00209025,  0.02825808,  0.05442591,  0.08059374,\n",
              "         0.10676157]),\n",
              " <a list of 10 Patch objects>)"
            ]
          },
          "metadata": {
            "tags": []
          },
          "execution_count": 21
        },
        {
          "output_type": "display_data",
          "data": {
            "image/png": "[encoded data removed]",
            "text/plain": [
              "<Figure size 432x288 with 1 Axes>"
            ]
          },
          "metadata": {
            "tags": [],
            "needs_background": "light"
          }
        }
      ]
    },
    {
      "cell_type": "code",
      "metadata": {
        "id": "7ahBiRN4pEpo",
        "colab_type": "code",
        "colab": {
          "base_uri": "https://localhost:8080/",
          "height": 282
        },
        "outputId": "10c672b5-8c87-4696-e053-fbe37565019f"
      },
      "source": [
        "plot(dataselected.Brent.values)"
      ],
      "execution_count": 18,
      "outputs": [
        {
          "output_type": "execute_result",
          "data": {
            "text/plain": [
              "[<matplotlib.lines.Line2D at 0x7fdb2fc2aef0>]"
            ]
          },
          "metadata": {
            "tags": []
          },
          "execution_count": 18
        },
        {
          "output_type": "display_data",
          "data": {
            "image/png": "[encoded data removed]",
            "text/plain": [
              "<Figure size 432x288 with 1 Axes>"
            ]
          },
          "metadata": {
            "tags": [],
            "needs_background": "light"
          }
        }
      ]
    },
    {
      "cell_type": "code",
      "metadata": {
        "id": "wVQ7s_kAtnGf",
        "colab_type": "code",
        "colab": {
          "base_uri": "https://localhost:8080/",
          "height": 34
        },
        "outputId": "95e26d25-c3cd-4366-b5af-d8af0814fc12"
      },
      "source": [
        "shape(dataselected)"
      ],
      "execution_count": 9,
      "outputs": [
        {
          "output_type": "execute_result",
          "data": {
            "text/plain": [
              "(84, 7)"
            ]
          },
          "metadata": {
            "tags": []
          },
          "execution_count": 9
        }
      ]
    },
    {
      "cell_type": "markdown",
      "metadata": {
        "id": "_vwM98RHyNPS",
        "colab_type": "text"
      },
      "source": [
        ""
      ]
    },
    {
      "cell_type": "code",
      "metadata": {
        "id": "0PZgwJXExcBA",
        "colab_type": "code",
        "colab": {
          "base_uri": "https://localhost:8080/",
          "height": 265
        },
        "outputId": "d37038bf-dab1-45a5-f1a8-dd2b77a13f80"
      },
      "source": [
        "hist(dataselected.Percent_Change, bins=20);  # histogram for percent change"
      ],
      "execution_count": 24,
      "outputs": [
        {
          "output_type": "display_data",
          "data": {
            "image/png": "[encoded data removed]",
            "text/plain": [
              "<Figure size 432x288 with 1 Axes>"
            ]
          },
          "metadata": {
            "tags": [],
            "needs_background": "light"
          }
        }
      ]
    },
    {
      "cell_type": "code",
      "metadata": {
        "id": "cZua4afmBlmH",
        "colab_type": "code",
        "colab": {}
      },
      "source": [
        ""
      ],
      "execution_count": null,
      "outputs": []
    }
  ]
}