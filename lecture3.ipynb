{
  "nbformat": 4,
  "nbformat_minor": 0,
  "metadata": {
    "colab": {
      "name": "lecture3.ipynb",
      "provenance": [],
      "collapsed_sections": []
    },
    "kernelspec": {
      "name": "python3",
      "display_name": "Python 3"
    }
  },
  "cells": [
    {
      "cell_type": "markdown",
      "metadata": {
        "id": "V6ro0SrDa7uZ"
      },
      "source": [
        "*Homework* 3\n",
        "# **Homework 3** - Gas/coal switching\n",
        "\n",
        "In this exercise you will calculate electricity cost from international commodity prices. Practically there are 3 main commodities: oil, gas and coal\n",
        "\n",
        "Oil is given in \\$/barrel. So you should find how much kWh in a barrel\n",
        "\n",
        "Gas is given in \\$/mmBtu. You should find mmbtu to kWh conversion\n",
        "\n",
        "Coal is given in \\$/ton. You should find calorific value for a kilogram of coal and then convert it to tonne.\n",
        "\n",
        "Pick the XLSX file link for **monthly** pink sheet from [https://www.worldbank.org/en/research/commodity-markets](https://www.worldbank.org/en/research/commodity-markets)\n",
        "\n",
        "\n",
        "1. Load standart libraries\n",
        "2. Load the data\n",
        "3. (convert all data cells to numbers : This is because of worldbank data has \"..\" for some cells and confuses Python dataframes\n",
        "4. Create new columns as C35 (Coal plant 35% efficient), N52 (natural gas 52%), O40(crude oil 40%)\n",
        "    > For naming  C35_RESOURCE like *O40_BRENT* or *N52_US* (Ngas_us)\n",
        "5. Analyze\n",
        "\n",
        "\n"
      ]
    },
    {
      "cell_type": "code",
      "metadata": {
        "id": "7jUxKo73a5cQ",
        "outputId": "bfc60b3a-4f8f-4deb-e9c3-1fb58d0238a7",
        "colab": {
          "base_uri": "https://localhost:8080/",
          "height": 35
        }
      },
      "source": [
        "# 1. load standard libraries\n",
        "%pylab inline\n",
        "import pandas as pd"
      ],
      "execution_count": null,
      "outputs": [
        {
          "output_type": "stream",
          "text": [
            "Populating the interactive namespace from numpy and matplotlib\n"
          ],
          "name": "stdout"
        }
      ]
    },
    {
      "cell_type": "code",
      "metadata": {
        "id": "FJ89V0e7caYh"
      },
      "source": [
        "# 2 Load the data\n",
        "wb_pinksheet=\"http://pubdocs.worldbank.org/en/561011486076393416/CMO-Historical-Data-Monthly.xlsx\"\n",
        "prices=pd.read_excel(wb_pinksheet,sheet_name=\"Monthly Prices\", skiprows=6)"
      ],
      "execution_count": null,
      "outputs": []
    },
    {
      "cell_type": "code",
      "metadata": {
        "id": "ksIkd3yBcxKf"
      },
      "source": [
        "#  ------------ This step is not relevant to you, for cleaning data -----------------------------------\n",
        "prices=prices[-120:]\n",
        "priceset=prices[[\"CRUDE_PETRO\",\"CRUDE_BRENT\",\"CRUDE_DUBAI\",\"CRUDE_WTI\",\"COAL_AUS\",\"COAL_SAFRICA\",\"NGAS_US\",\"NGAS_EUR\",\"NGAS_JP\"]]                "
      ],
      "execution_count": null,
      "outputs": []
    },
    {
      "cell_type": "code",
      "metadata": {
        "id": "Fivfvf6REmyS"
      },
      "source": [
        "priceset=priceset.applymap(float); # convert to float all numbers\n",
        "# ----------------------------------------------------------------------------------------------------"
      ],
      "execution_count": null,
      "outputs": []
    },
    {
      "cell_type": "code",
      "metadata": {
        "id": "C0PEY1BOdcqj",
        "outputId": "940f8752-7eda-4b98-9d11-9d961865d831",
        "colab": {
          "base_uri": "https://localhost:8080/",
          "height": 111
        }
      },
      "source": [
        "# see the first two rows of the dataselected\n",
        "# head command ->  head(#number of rows)\n",
        "priceset.tail(2)"
      ],
      "execution_count": null,
      "outputs": [
        {
          "output_type": "execute_result",
          "data": {
            "text/html": [
              "<div>\n",
              "<style scoped>\n",
              "    .dataframe tbody tr th:only-of-type {\n",
              "        vertical-align: middle;\n",
              "    }\n",
              "\n",
              "    .dataframe tbody tr th {\n",
              "        vertical-align: top;\n",
              "    }\n",
              "\n",
              "    .dataframe thead th {\n",
              "        text-align: right;\n",
              "    }\n",
              "</style>\n",
              "<table border=\"1\" class=\"dataframe\">\n",
              "  <thead>\n",
              "    <tr style=\"text-align: right;\">\n",
              "      <th></th>\n",
              "      <th>CRUDE_PETRO</th>\n",
              "      <th>CRUDE_BRENT</th>\n",
              "      <th>CRUDE_DUBAI</th>\n",
              "      <th>CRUDE_WTI</th>\n",
              "      <th>COAL_AUS</th>\n",
              "      <th>COAL_SAFRICA</th>\n",
              "      <th>NGAS_US</th>\n",
              "      <th>NGAS_EUR</th>\n",
              "      <th>NGAS_JP</th>\n",
              "    </tr>\n",
              "  </thead>\n",
              "  <tbody>\n",
              "    <tr>\n",
              "      <th>727</th>\n",
              "      <td>43.443333</td>\n",
              "      <td>44.26</td>\n",
              "      <td>43.71</td>\n",
              "      <td>42.36</td>\n",
              "      <td>50.14</td>\n",
              "      <td>57.38</td>\n",
              "      <td>2.2933</td>\n",
              "      <td>2.861897</td>\n",
              "      <td>6.343032</td>\n",
              "    </tr>\n",
              "    <tr>\n",
              "      <th>728</th>\n",
              "      <td>40.596667</td>\n",
              "      <td>41.09</td>\n",
              "      <td>41.10</td>\n",
              "      <td>39.60</td>\n",
              "      <td>54.60</td>\n",
              "      <td>57.47</td>\n",
              "      <td>1.9186</td>\n",
              "      <td>3.952139</td>\n",
              "      <td>6.343032</td>\n",
              "    </tr>\n",
              "  </tbody>\n",
              "</table>\n",
              "</div>"
            ],
            "text/plain": [
              "     CRUDE_PETRO  CRUDE_BRENT  CRUDE_DUBAI  ...  NGAS_US  NGAS_EUR   NGAS_JP\n",
              "727    43.443333        44.26        43.71  ...   2.2933  2.861897  6.343032\n",
              "728    40.596667        41.09        41.10  ...   1.9186  3.952139  6.343032\n",
              "\n",
              "[2 rows x 9 columns]"
            ]
          },
          "metadata": {
            "tags": []
          },
          "execution_count": 26
        }
      ]
    },
    {
      "cell_type": "code",
      "metadata": {
        "id": "oaiUWQfqd9p6",
        "outputId": "dbfab82e-428d-407a-81c3-e66e3278e89a",
        "colab": {
          "base_uri": "https://localhost:8080/",
          "height": 197
        }
      },
      "source": [
        "# make sure all columns are float or number otherwise correlation will not perform use .dtypes extension to check it\n",
        "priceset.dtypes"
      ],
      "execution_count": null,
      "outputs": [
        {
          "output_type": "execute_result",
          "data": {
            "text/plain": [
              "CRUDE_PETRO     float64\n",
              "CRUDE_BRENT     float64\n",
              "CRUDE_DUBAI     float64\n",
              "CRUDE_WTI       float64\n",
              "COAL_AUS        float64\n",
              "COAL_SAFRICA    float64\n",
              "NGAS_US         float64\n",
              "NGAS_EUR        float64\n",
              "NGAS_JP         float64\n",
              "dtype: object"
            ]
          },
          "metadata": {
            "tags": []
          },
          "execution_count": 27
        }
      ]
    },
    {
      "cell_type": "code",
      "metadata": {
        "id": "aQ3DFWn8nhRd"
      },
      "source": [
        "# Now the questions\n",
        "# Q1 - kWh equivalent of energy content of a ton of coal?   coal2kwh\n",
        "# Q2 - kWh equivalent of mmbtu of gas? mmbtu2kwh\n",
        "# Q3 - kWh equivalent of energy content of a barrel of oil? barrel2kwh\n",
        "coal2kwh=1\n",
        "mmbtu2kwh=1\n",
        "barrel2kwh=1\n",
        "\n",
        "#now the efficiencies   ------dont change this---------------\n",
        "effcoal=0.35\n",
        "effgas=0.52\n",
        "effoil=0.4\n",
        "#-------------------------------------------------------------\n"
      ],
      "execution_count": null,
      "outputs": []
    },
    {
      "cell_type": "code",
      "metadata": {
        "id": "ZNjVpdbyFoQE"
      },
      "source": [
        "# electricity produced from coal, oil, gas\n",
        "kwhfromcoal= coal2kwh*effcoal\n",
        "kwhfromgas=mmbtu2kwh*effgas\n",
        "kwhfromoil=barrel2kwh*effoil"
      ],
      "execution_count": null,
      "outputs": []
    },
    {
      "cell_type": "code",
      "metadata": {
        "id": "vKxXMC_1HGAS",
        "outputId": "b34b882a-d0d5-4e25-d34f-4d7b5834e737",
        "colab": {
          "base_uri": "https://localhost:8080/",
          "height": 107
        }
      },
      "source": [
        "priceset.columns"
      ],
      "execution_count": null,
      "outputs": [
        {
          "output_type": "execute_result",
          "data": {
            "text/plain": [
              "Index(['CRUDE_PETRO', 'CRUDE_BRENT', 'CRUDE_DUBAI', 'CRUDE_WTI', 'COAL_AUS',\n",
              "       'COAL_SAFRICA', 'NGAS_US', 'NGAS_EUR', 'NGAS_JP', 'O40_PETRO',\n",
              "       'O40_BRENT', 'O40_DUBAI', 'O40_WTI', 'C35_AUS', 'C35_SAFRICA', 'N52_US',\n",
              "       'N52_EUR', 'N52_JP'],\n",
              "      dtype='object')"
            ]
          },
          "metadata": {
            "tags": []
          },
          "execution_count": 34
        }
      ]
    },
    {
      "cell_type": "code",
      "metadata": {
        "id": "CEaLPUrxGrc4"
      },
      "source": [
        "#now let's create electricity costs from these resources\n",
        "#since prices are cent/kWh we will convert $ to cent by multiplying by 100\n",
        "\n",
        "# electricity cost from oil\n",
        "priceset[\"O40_PETRO\"]= priceset['CRUDE_PETRO']*100/kwhfromoil\n",
        "priceset[\"O40_BRENT\"]= priceset['CRUDE_BRENT']*100/kwhfromoil\n",
        "priceset[\"O40_DUBAI\"]= priceset['CRUDE_DUBAI']*100/kwhfromoil\n",
        "priceset[\"O40_WTI\"]= priceset['CRUDE_WTI']*100/kwhfromoil\n",
        "\n",
        "# electricity cost from coal\n",
        "priceset[\"C35_AUS\"]= priceset['COAL_AUS']*100/kwhfromcoal\n",
        "priceset[\"C35_SAFRICA\"]= priceset['COAL_SAFRICA']*100/kwhfromcoal\n",
        "\n",
        "\n",
        "#electricity cost from natural gas\n",
        "priceset[\"N52_US\"]= priceset['NGAS_US']*100/kwhfromgas\n",
        "priceset[\"N52_EUR\"]= priceset['NGAS_EUR']*100/kwhfromgas\n",
        "priceset[\"N52_JP\"]= priceset['NGAS_JP']*100/kwhfromgas"
      ],
      "execution_count": null,
      "outputs": []
    },
    {
      "cell_type": "code",
      "metadata": {
        "id": "o1FjFbUQIUw6",
        "outputId": "9fdb77e2-89bf-44df-d7d1-cc1b29f755af",
        "colab": {
          "base_uri": "https://localhost:8080/",
          "height": 111
        }
      },
      "source": [
        "priceset.tail(2)"
      ],
      "execution_count": null,
      "outputs": [
        {
          "output_type": "execute_result",
          "data": {
            "text/html": [
              "<div>\n",
              "<style scoped>\n",
              "    .dataframe tbody tr th:only-of-type {\n",
              "        vertical-align: middle;\n",
              "    }\n",
              "\n",
              "    .dataframe tbody tr th {\n",
              "        vertical-align: top;\n",
              "    }\n",
              "\n",
              "    .dataframe thead th {\n",
              "        text-align: right;\n",
              "    }\n",
              "</style>\n",
              "<table border=\"1\" class=\"dataframe\">\n",
              "  <thead>\n",
              "    <tr style=\"text-align: right;\">\n",
              "      <th></th>\n",
              "      <th>CRUDE_PETRO</th>\n",
              "      <th>CRUDE_BRENT</th>\n",
              "      <th>CRUDE_DUBAI</th>\n",
              "      <th>CRUDE_WTI</th>\n",
              "      <th>COAL_AUS</th>\n",
              "      <th>COAL_SAFRICA</th>\n",
              "      <th>NGAS_US</th>\n",
              "      <th>NGAS_EUR</th>\n",
              "      <th>NGAS_JP</th>\n",
              "      <th>O40_PETRO</th>\n",
              "      <th>O40_BRENT</th>\n",
              "      <th>O40_DUBAI</th>\n",
              "      <th>O40_WTI</th>\n",
              "      <th>C35_AUS</th>\n",
              "      <th>C35_SAFRICA</th>\n",
              "      <th>N52_US</th>\n",
              "      <th>N52_EUR</th>\n",
              "      <th>N52_JP</th>\n",
              "    </tr>\n",
              "  </thead>\n",
              "  <tbody>\n",
              "    <tr>\n",
              "      <th>727</th>\n",
              "      <td>43.443333</td>\n",
              "      <td>44.26</td>\n",
              "      <td>43.71</td>\n",
              "      <td>42.36</td>\n",
              "      <td>50.14</td>\n",
              "      <td>57.38</td>\n",
              "      <td>2.2933</td>\n",
              "      <td>2.861897</td>\n",
              "      <td>6.343032</td>\n",
              "      <td>6.671274</td>\n",
              "      <td>6.796683</td>\n",
              "      <td>6.712224</td>\n",
              "      <td>6.504914</td>\n",
              "      <td>2.052983</td>\n",
              "      <td>2.349425</td>\n",
              "      <td>1.505185</td>\n",
              "      <td>1.878378</td>\n",
              "      <td>4.163187</td>\n",
              "    </tr>\n",
              "    <tr>\n",
              "      <th>728</th>\n",
              "      <td>40.596667</td>\n",
              "      <td>41.09</td>\n",
              "      <td>41.10</td>\n",
              "      <td>39.60</td>\n",
              "      <td>54.60</td>\n",
              "      <td>57.47</td>\n",
              "      <td>1.9186</td>\n",
              "      <td>3.952139</td>\n",
              "      <td>6.343032</td>\n",
              "      <td>6.234132</td>\n",
              "      <td>6.309889</td>\n",
              "      <td>6.311425</td>\n",
              "      <td>6.081081</td>\n",
              "      <td>2.235598</td>\n",
              "      <td>2.353110</td>\n",
              "      <td>1.259254</td>\n",
              "      <td>2.593948</td>\n",
              "      <td>4.163187</td>\n",
              "    </tr>\n",
              "  </tbody>\n",
              "</table>\n",
              "</div>"
            ],
            "text/plain": [
              "     CRUDE_PETRO  CRUDE_BRENT  CRUDE_DUBAI  ...    N52_US   N52_EUR    N52_JP\n",
              "727    43.443333        44.26        43.71  ...  1.505185  1.878378  4.163187\n",
              "728    40.596667        41.09        41.10  ...  1.259254  2.593948  4.163187\n",
              "\n",
              "[2 rows x 18 columns]"
            ]
          },
          "metadata": {
            "tags": []
          },
          "execution_count": 38
        }
      ]
    },
    {
      "cell_type": "code",
      "metadata": {
        "id": "YUmDULCRJslL",
        "outputId": "5a220757-9083-45eb-e6de-61eef275f2db",
        "colab": {
          "base_uri": "https://localhost:8080/",
          "height": 299
        }
      },
      "source": [
        "# now plot various graphs\n",
        "plot(priceset.C35_AUS,label=\"C35\")\n",
        "plot(priceset.N52_EUR,label=\"N52\")\n",
        "legend(loc=\"upper right\")\n",
        "title(\"C35_AUS vs N52_EUR\")\n",
        "ylabel(\"cent/kWh\")"
      ],
      "execution_count": null,
      "outputs": [
        {
          "output_type": "execute_result",
          "data": {
            "text/plain": [
              "Text(0, 0.5, 'cent/kWh')"
            ]
          },
          "metadata": {
            "tags": []
          },
          "execution_count": 45
        },
        {
          "output_type": "display_data",
          "data": {
            "image/png": "[encoded data removed]",
            "text/plain": [
              "<Figure size 432x288 with 1 Axes>"
            ]
          },
          "metadata": {
            "tags": [],
            "needs_background": "light"
          }
        }
      ]
    },
    {
      "cell_type": "code",
      "metadata": {
        "id": "b-sEEh_kKBA_",
        "outputId": "803d3b71-7b15-4087-e21c-d3d189dd9838",
        "colab": {
          "base_uri": "https://localhost:8080/",
          "height": 299
        }
      },
      "source": [
        "plot(priceset.C35_SAFRICA,label=\"C35\")\n",
        "plot(priceset.N52_US,label=\"N52_US\")\n",
        "legend(loc=\"upper right\")\n",
        "title(\"C35_SAFRICA vs N52_US\")\n",
        "ylabel(\"cent/kWh\")"
      ],
      "execution_count": null,
      "outputs": [
        {
          "output_type": "execute_result",
          "data": {
            "text/plain": [
              "Text(0, 0.5, 'cent/kWh')"
            ]
          },
          "metadata": {
            "tags": []
          },
          "execution_count": 49
        },
        {
          "output_type": "display_data",
          "data": {
            "image/png": "[encoded data removed]",
            "text/plain": [
              "<Figure size 432x288 with 1 Axes>"
            ]
          },
          "metadata": {
            "tags": [],
            "needs_background": "light"
          }
        }
      ]
    },
    {
      "cell_type": "code",
      "metadata": {
        "id": "6xSzKeGcL-F-",
        "outputId": "e1d4bca7-6b85-43be-9be6-5ca7e5c6af79",
        "colab": {
          "base_uri": "https://localhost:8080/",
          "height": 233
        }
      },
      "source": [
        "# You can also calculate margins\n",
        "priceset.C35_SAFRICA-priceset.N52_US"
      ],
      "execution_count": null,
      "outputs": [
        {
          "output_type": "execute_result",
          "data": {
            "text/plain": [
              "609    1.473355\n",
              "610    1.779181\n",
              "611    1.937527\n",
              "612    2.071478\n",
              "613    2.146345\n",
              "         ...   \n",
              "724    1.200826\n",
              "725    1.275614\n",
              "726    1.186810\n",
              "727    0.844240\n",
              "728    1.093855\n",
              "Length: 120, dtype: float64"
            ]
          },
          "metadata": {
            "tags": []
          },
          "execution_count": 50
        }
      ]
    },
    {
      "cell_type": "code",
      "metadata": {
        "id": "Z9IzlyeWMYFq"
      },
      "source": [
        ""
      ],
      "execution_count": null,
      "outputs": []
    }
  ]
}